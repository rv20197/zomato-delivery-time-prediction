{
 "cells": [
  {
   "cell_type": "markdown",
   "metadata": {},
   "source": [
    "# Predicting Food Delivery Time Using Zomato Dataset\n",
    "Zomato is a online food delivery app in India.\n",
    "\n",
    "A huge number of cities population uses the services of Zomato to find its next meal of the day.\n",
    "\n",
    "The data below is useful as it can answer so many questions which matter to me personally as a dweller of the country who is highly reliant on the app."
   ]
  },
  {
   "cell_type": "markdown",
   "metadata": {},
   "source": [
    "1. We have removed the Restaurant ID and grouped the Restaurant on the basis of in which city they are located to easily predict the delivery time for every individual city."
   ]
  },
  {
   "cell_type": "markdown",
   "metadata": {},
   "source": [
    "2. In every plot Y-axis states How Often the delivery is done for it's respective delivery time shown on X-Axis."
   ]
  },
  {
   "cell_type": "markdown",
   "metadata": {},
   "source": [
    "## Data Pre-Processing on Training Data"
   ]
  },
  {
   "cell_type": "code",
   "execution_count": 1,
   "metadata": {},
   "outputs": [],
   "source": [
    "# Libraries\n",
    "import pandas as pd\n",
    "import numpy as np\n",
    "import warnings\n",
    "warnings.filterwarnings(\"ignore\") # It will ignore the warnings"
   ]
  },
  {
   "cell_type": "code",
   "execution_count": 2,
   "metadata": {},
   "outputs": [
    {
     "name": "stdout",
     "output_type": "stream",
     "text": [
      "Index(['Location', 'Cuisines', 'Average_Cost(₹)', 'Minimum_Order(₹)', 'Rating',\n",
      "       'Votes', 'Reviews', 'Delivery_Time()'],\n",
      "      dtype='object')\n"
     ]
    }
   ],
   "source": [
    "# Importing data\n",
    "train = pd.read_excel(\"D:/PGDA Files/Python/Python datasets/Zomato/Data_Train.xlsx\") \n",
    "col_name_train=train.columns\n",
    "print(col_name_train)"
   ]
  },
  {
   "cell_type": "code",
   "execution_count": 3,
   "metadata": {},
   "outputs": [],
   "source": [
    "# Function to count number of cuisines in particular restaurant\n",
    "def countoc(s):\n",
    "    a=s.split(',')\n",
    "    return len(a)"
   ]
  },
  {
   "cell_type": "code",
   "execution_count": 4,
   "metadata": {},
   "outputs": [
    {
     "data": {
      "text/html": [
       "<div>\n",
       "<style scoped>\n",
       "    .dataframe tbody tr th:only-of-type {\n",
       "        vertical-align: middle;\n",
       "    }\n",
       "\n",
       "    .dataframe tbody tr th {\n",
       "        vertical-align: top;\n",
       "    }\n",
       "\n",
       "    .dataframe thead th {\n",
       "        text-align: right;\n",
       "    }\n",
       "</style>\n",
       "<table border=\"1\" class=\"dataframe\">\n",
       "  <thead>\n",
       "    <tr style=\"text-align: right;\">\n",
       "      <th></th>\n",
       "      <th>Location</th>\n",
       "      <th>Cuisines</th>\n",
       "      <th>Average_Cost(₹)</th>\n",
       "      <th>Minimum_Order(₹)</th>\n",
       "      <th>Rating</th>\n",
       "      <th>Votes</th>\n",
       "      <th>Reviews</th>\n",
       "      <th>Delivery_Time()</th>\n",
       "    </tr>\n",
       "  </thead>\n",
       "  <tbody>\n",
       "    <tr>\n",
       "      <th>0</th>\n",
       "      <td>Delhi</td>\n",
       "      <td>1</td>\n",
       "      <td>150</td>\n",
       "      <td>50</td>\n",
       "      <td>-</td>\n",
       "      <td>-</td>\n",
       "      <td>-</td>\n",
       "      <td>30</td>\n",
       "    </tr>\n",
       "    <tr>\n",
       "      <th>1</th>\n",
       "      <td>Noida</td>\n",
       "      <td>6</td>\n",
       "      <td>400</td>\n",
       "      <td>50</td>\n",
       "      <td>NEW</td>\n",
       "      <td>-</td>\n",
       "      <td>-</td>\n",
       "      <td>30</td>\n",
       "    </tr>\n",
       "    <tr>\n",
       "      <th>2</th>\n",
       "      <td>Delhi</td>\n",
       "      <td>1</td>\n",
       "      <td>150</td>\n",
       "      <td>50</td>\n",
       "      <td>3.6</td>\n",
       "      <td>36</td>\n",
       "      <td>7</td>\n",
       "      <td>30</td>\n",
       "    </tr>\n",
       "    <tr>\n",
       "      <th>3</th>\n",
       "      <td>Bangalore</td>\n",
       "      <td>2</td>\n",
       "      <td>250</td>\n",
       "      <td>50</td>\n",
       "      <td>3.7</td>\n",
       "      <td>96</td>\n",
       "      <td>55</td>\n",
       "      <td>30</td>\n",
       "    </tr>\n",
       "    <tr>\n",
       "      <th>4</th>\n",
       "      <td>Delhi</td>\n",
       "      <td>1</td>\n",
       "      <td>200</td>\n",
       "      <td>50</td>\n",
       "      <td>3.9</td>\n",
       "      <td>61</td>\n",
       "      <td>45</td>\n",
       "      <td>30</td>\n",
       "    </tr>\n",
       "  </tbody>\n",
       "</table>\n",
       "</div>"
      ],
      "text/plain": [
       "    Location  Cuisines Average_Cost(₹)  Minimum_Order(₹) Rating Votes Reviews  \\\n",
       "0      Delhi         1             150                50      -     -       -   \n",
       "1      Noida         6             400                50    NEW     -       -   \n",
       "2      Delhi         1             150                50    3.6    36       7   \n",
       "3  Bangalore         2             250                50    3.7    96      55   \n",
       "4      Delhi         1             200                50    3.9    61      45   \n",
       "\n",
       "   Delivery_Time()  \n",
       "0               30  \n",
       "1               30  \n",
       "2               30  \n",
       "3               30  \n",
       "4               30  "
      ]
     },
     "execution_count": 4,
     "metadata": {},
     "output_type": "execute_result"
    }
   ],
   "source": [
    "# Counting the number of cusines by every individual restaurant\n",
    "train['Cuisines']=train['Cuisines'].apply(lambda x: countoc(x))\n",
    "train.head()"
   ]
  },
  {
   "cell_type": "code",
   "execution_count": 5,
   "metadata": {},
   "outputs": [],
   "source": [
    "# Factorizing the Location\n",
    "train['Location'], _ = pd.factorize(train['Location'], sort=True)"
   ]
  },
  {
   "cell_type": "code",
   "execution_count": 6,
   "metadata": {},
   "outputs": [
    {
     "data": {
      "text/plain": [
       "Location             int64\n",
       "Cuisines             int64\n",
       "Average_Cost(₹)     object\n",
       "Minimum_Order(₹)     int64\n",
       "Rating              object\n",
       "Votes               object\n",
       "Reviews             object\n",
       "Delivery_Time()      int64\n",
       "dtype: object"
      ]
     },
     "execution_count": 6,
     "metadata": {},
     "output_type": "execute_result"
    }
   ],
   "source": [
    "# Checking the datatypes of training data\n",
    "train.dtypes"
   ]
  },
  {
   "cell_type": "code",
   "execution_count": 7,
   "metadata": {},
   "outputs": [],
   "source": [
    "# Converting Object to numeric\n",
    "train = train.apply(pd.to_numeric,errors='coerce')"
   ]
  },
  {
   "cell_type": "code",
   "execution_count": 8,
   "metadata": {},
   "outputs": [
    {
     "data": {
      "text/plain": [
       "Location               0\n",
       "Cuisines               0\n",
       "Average_Cost(₹)        1\n",
       "Minimum_Order(₹)       0\n",
       "Rating              1963\n",
       "Votes               2074\n",
       "Reviews             2312\n",
       "Delivery_Time()        0\n",
       "dtype: int64"
      ]
     },
     "execution_count": 8,
     "metadata": {},
     "output_type": "execute_result"
    }
   ],
   "source": [
    "# Finding missing values in training data\n",
    "train.isna().sum()"
   ]
  },
  {
   "cell_type": "code",
   "execution_count": 9,
   "metadata": {},
   "outputs": [],
   "source": [
    "# Dealing with missing values into the training data\n",
    "from sklearn.impute import KNNImputer\n",
    "imputer = KNNImputer(n_neighbors=5, weights=\"uniform\")\n",
    "train=imputer.fit_transform(train)"
   ]
  },
  {
   "cell_type": "code",
   "execution_count": 10,
   "metadata": {},
   "outputs": [],
   "source": [
    "# Converting training data to dataframe from array type\n",
    "train=pd.DataFrame(train)"
   ]
  },
  {
   "cell_type": "code",
   "execution_count": 11,
   "metadata": {},
   "outputs": [],
   "source": [
    "# Assigning the column names as per it's index values\n",
    "train.columns = col_name_train"
   ]
  },
  {
   "cell_type": "code",
   "execution_count": 12,
   "metadata": {},
   "outputs": [],
   "source": [
    "# Writing cleaned data to csv\n",
    "train.to_csv(\"D:/PGDA Files/Python/Python datasets/Zomato/cleaned train.csv\")"
   ]
  },
  {
   "cell_type": "markdown",
   "metadata": {},
   "source": [
    "## Data Pre-Processing on Testing Data"
   ]
  },
  {
   "cell_type": "code",
   "execution_count": 13,
   "metadata": {},
   "outputs": [],
   "source": [
    "# Libraries\n",
    "import pandas as pd\n",
    "import numpy as np\n",
    "import warnings\n",
    "warnings.filterwarnings(\"ignore\") # It will ignore the warnings"
   ]
  },
  {
   "cell_type": "code",
   "execution_count": 14,
   "metadata": {},
   "outputs": [
    {
     "name": "stdout",
     "output_type": "stream",
     "text": [
      "Index(['Location', 'Cuisines', 'Average_Cost(₹)', 'Minimum_Order(₹)', 'Rating',\n",
      "       'Votes', 'Reviews'],\n",
      "      dtype='object')\n"
     ]
    }
   ],
   "source": [
    "# Importing data\n",
    "Test = pd.read_excel(\"D:/PGDA Files/Python/Python datasets/Zomato/Data_Test.xlsx\") \n",
    "col_name_test=Test.columns\n",
    "print(col_name_test)"
   ]
  },
  {
   "cell_type": "code",
   "execution_count": 15,
   "metadata": {},
   "outputs": [],
   "source": [
    "# Function to count number of cuisines in particular restaurant\n",
    "def countoc(s):\n",
    "    a=s.split(',')\n",
    "    return len(a)"
   ]
  },
  {
   "cell_type": "code",
   "execution_count": 16,
   "metadata": {},
   "outputs": [
    {
     "data": {
      "text/html": [
       "<div>\n",
       "<style scoped>\n",
       "    .dataframe tbody tr th:only-of-type {\n",
       "        vertical-align: middle;\n",
       "    }\n",
       "\n",
       "    .dataframe tbody tr th {\n",
       "        vertical-align: top;\n",
       "    }\n",
       "\n",
       "    .dataframe thead th {\n",
       "        text-align: right;\n",
       "    }\n",
       "</style>\n",
       "<table border=\"1\" class=\"dataframe\">\n",
       "  <thead>\n",
       "    <tr style=\"text-align: right;\">\n",
       "      <th></th>\n",
       "      <th>Location</th>\n",
       "      <th>Cuisines</th>\n",
       "      <th>Average_Cost(₹)</th>\n",
       "      <th>Minimum_Order(₹)</th>\n",
       "      <th>Rating</th>\n",
       "      <th>Votes</th>\n",
       "      <th>Reviews</th>\n",
       "    </tr>\n",
       "  </thead>\n",
       "  <tbody>\n",
       "    <tr>\n",
       "      <th>0</th>\n",
       "      <td>Delhi</td>\n",
       "      <td>2</td>\n",
       "      <td>100</td>\n",
       "      <td>50</td>\n",
       "      <td>3.4</td>\n",
       "      <td>19</td>\n",
       "      <td>1</td>\n",
       "    </tr>\n",
       "    <tr>\n",
       "      <th>1</th>\n",
       "      <td>Delhi</td>\n",
       "      <td>1</td>\n",
       "      <td>150</td>\n",
       "      <td>50</td>\n",
       "      <td>3.6</td>\n",
       "      <td>36</td>\n",
       "      <td>7</td>\n",
       "    </tr>\n",
       "    <tr>\n",
       "      <th>2</th>\n",
       "      <td>Kolkata</td>\n",
       "      <td>5</td>\n",
       "      <td>250</td>\n",
       "      <td>99</td>\n",
       "      <td>3.6</td>\n",
       "      <td>182</td>\n",
       "      <td>51</td>\n",
       "    </tr>\n",
       "    <tr>\n",
       "      <th>3</th>\n",
       "      <td>Noida</td>\n",
       "      <td>3</td>\n",
       "      <td>150</td>\n",
       "      <td>50</td>\n",
       "      <td>3.6</td>\n",
       "      <td>116</td>\n",
       "      <td>41</td>\n",
       "    </tr>\n",
       "    <tr>\n",
       "      <th>4</th>\n",
       "      <td>Mumbai</td>\n",
       "      <td>2</td>\n",
       "      <td>100</td>\n",
       "      <td>50</td>\n",
       "      <td>3.0</td>\n",
       "      <td>4</td>\n",
       "      <td>1</td>\n",
       "    </tr>\n",
       "  </tbody>\n",
       "</table>\n",
       "</div>"
      ],
      "text/plain": [
       "  Location  Cuisines  Average_Cost(₹)  Minimum_Order(₹) Rating Votes Reviews\n",
       "0    Delhi         2              100                50    3.4    19       1\n",
       "1    Delhi         1              150                50    3.6    36       7\n",
       "2  Kolkata         5              250                99    3.6   182      51\n",
       "3    Noida         3              150                50    3.6   116      41\n",
       "4   Mumbai         2              100                50    3.0     4       1"
      ]
     },
     "execution_count": 16,
     "metadata": {},
     "output_type": "execute_result"
    }
   ],
   "source": [
    "# Counting the number of cusines by every individual restaurant\n",
    "Test['Cuisines']=Test['Cuisines'].apply(lambda x: countoc(x))\n",
    "Test.head()"
   ]
  },
  {
   "cell_type": "code",
   "execution_count": 17,
   "metadata": {},
   "outputs": [],
   "source": [
    "# Factorizing the Location\n",
    "Test['Location'], _ = pd.factorize(Test['Location'], sort=True)"
   ]
  },
  {
   "cell_type": "code",
   "execution_count": 18,
   "metadata": {},
   "outputs": [
    {
     "data": {
      "text/plain": [
       "Location             int64\n",
       "Cuisines             int64\n",
       "Average_Cost(₹)      int64\n",
       "Minimum_Order(₹)     int64\n",
       "Rating              object\n",
       "Votes               object\n",
       "Reviews             object\n",
       "dtype: object"
      ]
     },
     "execution_count": 18,
     "metadata": {},
     "output_type": "execute_result"
    }
   ],
   "source": [
    "# Checking the datatypes of Testing data\n",
    "Test.dtypes"
   ]
  },
  {
   "cell_type": "code",
   "execution_count": 19,
   "metadata": {},
   "outputs": [],
   "source": [
    "# Converting Object to numeric\n",
    "Test = Test.apply(pd.to_numeric,errors='coerce')"
   ]
  },
  {
   "cell_type": "code",
   "execution_count": 20,
   "metadata": {},
   "outputs": [
    {
     "data": {
      "text/plain": [
       "Location              0\n",
       "Cuisines              0\n",
       "Average_Cost(₹)       0\n",
       "Minimum_Order(₹)      0\n",
       "Rating              507\n",
       "Votes               542\n",
       "Reviews             593\n",
       "dtype: int64"
      ]
     },
     "execution_count": 20,
     "metadata": {},
     "output_type": "execute_result"
    }
   ],
   "source": [
    "# Finding missing values in Testing data\n",
    "Test.isna().sum()"
   ]
  },
  {
   "cell_type": "code",
   "execution_count": 21,
   "metadata": {},
   "outputs": [],
   "source": [
    "from sklearn.impute import KNNImputer\n",
    "imputer = KNNImputer(n_neighbors=5, weights=\"uniform\")\n",
    "Test=imputer.fit_transform(Test)"
   ]
  },
  {
   "cell_type": "code",
   "execution_count": 22,
   "metadata": {},
   "outputs": [],
   "source": [
    "# Converting Testing data to dataframe from array type\n",
    "Test=pd.DataFrame(Test)"
   ]
  },
  {
   "cell_type": "code",
   "execution_count": 23,
   "metadata": {},
   "outputs": [],
   "source": [
    "# Assigning the column names as per it's index values\n",
    "Test.columns = col_name_test"
   ]
  },
  {
   "cell_type": "code",
   "execution_count": 24,
   "metadata": {},
   "outputs": [],
   "source": [
    "# Writing cleaned data to csv\n",
    "Test.to_csv(\"D:/PGDA Files/Python/Python datasets/Zomato/cleaned Test.csv\")"
   ]
  },
  {
   "cell_type": "markdown",
   "metadata": {},
   "source": [
    "# Model Building and Visualizing"
   ]
  },
  {
   "cell_type": "markdown",
   "metadata": {},
   "source": [
    "## Seperating the Dependent and Independent Variables from training dataset"
   ]
  },
  {
   "cell_type": "code",
   "execution_count": 25,
   "metadata": {},
   "outputs": [],
   "source": [
    "x = train.iloc[:,0:7].values #Independent Variables\n",
    "y = train.iloc[:,[-1]].values # Dependent Variable"
   ]
  },
  {
   "cell_type": "markdown",
   "metadata": {},
   "source": [
    "## Linear Regression"
   ]
  },
  {
   "cell_type": "code",
   "execution_count": 26,
   "metadata": {},
   "outputs": [
    {
     "name": "stdout",
     "output_type": "stream",
     "text": [
      "[ 1.47162952e-01  5.93474145e-01  5.05813440e-03  1.81137491e-01\n",
      "  6.61294963e+00  7.81007949e-03 -1.18768804e-02]\n",
      "                                 OLS Regression Results                                \n",
      "=======================================================================================\n",
      "Dep. Variable:                      y   R-squared (uncentered):                   0.907\n",
      "Model:                            OLS   Adj. R-squared (uncentered):              0.907\n",
      "Method:                 Least Squares   F-statistic:                          1.547e+04\n",
      "Date:                Thu, 09 Jan 2020   Prob (F-statistic):                        0.00\n",
      "Time:                        00:45:43   Log-Likelihood:                         -43230.\n",
      "No. Observations:               11094   AIC:                                  8.647e+04\n",
      "Df Residuals:                   11087   BIC:                                  8.652e+04\n",
      "Df Model:                           7                                                  \n",
      "Covariance Type:            nonrobust                                                  \n",
      "==============================================================================\n",
      "                 coef    std err          t      P>|t|      [0.025      0.975]\n",
      "------------------------------------------------------------------------------\n",
      "x1             0.1472      0.042      3.536      0.000       0.066       0.229\n",
      "x2             0.5935      0.099      6.005      0.000       0.400       0.787\n",
      "x3             0.0051      0.001      4.793      0.000       0.003       0.007\n",
      "x4             0.1811      0.006     30.418      0.000       0.169       0.193\n",
      "x5             6.6129      0.120     54.928      0.000       6.377       6.849\n",
      "x6             0.0078      0.001      9.577      0.000       0.006       0.009\n",
      "x7            -0.0119      0.001     -8.235      0.000      -0.015      -0.009\n",
      "==============================================================================\n",
      "Omnibus:                     6161.865   Durbin-Watson:                   1.430\n",
      "Prob(Omnibus):                  0.000   Jarque-Bera (JB):            71078.348\n",
      "Skew:                           2.447   Prob(JB):                         0.00\n",
      "Kurtosis:                      14.393   Cond. No.                         753.\n",
      "==============================================================================\n",
      "\n",
      "Warnings:\n",
      "[1] Standard Errors assume that the covariance matrix of the errors is correctly specified.\n"
     ]
    },
    {
     "data": {
      "text/plain": [
       "Text(0.5, 1.0, 'Linear regression')"
      ]
     },
     "execution_count": 26,
     "metadata": {},
     "output_type": "execute_result"
    },
    {
     "data": {
      "image/png": "[encoded data removed]",
      "text/plain": [
       "<Figure size 432x288 with 1 Axes>"
      ]
     },
     "metadata": {
      "needs_background": "light"
     },
     "output_type": "display_data"
    }
   ],
   "source": [
    "#Building Model\n",
    "import statsmodels.api as sm\n",
    "Linear_Regression = sm.OLS(y,x)\n",
    "result = Linear_Regression.fit() \n",
    "print(result.params)\n",
    "print(result.summary())\n",
    "\n",
    "# Predicting the delivery time\n",
    "y_pred_lr=result.predict(Test)\n",
    "\n",
    "# Visualization\n",
    "import seaborn as sns\n",
    "ax1 = sns.distplot(y, hist=False, color=\"r\", label=\"Actual Value\")\n",
    "sns.distplot(y_pred_lr, hist=False, color=\"b\", label=\"Fitted Values\" , ax=ax1).set_title('Linear regression')"
   ]
  },
  {
   "cell_type": "markdown",
   "metadata": {},
   "source": [
    "## Polynomial regression"
   ]
  },
  {
   "cell_type": "code",
   "execution_count": 32,
   "metadata": {},
   "outputs": [
    {
     "data": {
      "text/plain": [
       "Text(0.5, 1.0, 'Polynomial regression')"
      ]
     },
     "execution_count": 32,
     "metadata": {},
     "output_type": "execute_result"
    },
    {
     "data": {
      "image/png": "[encoded data removed]",
      "text/plain": [
       "<Figure size 432x288 with 1 Axes>"
      ]
     },
     "metadata": {
      "needs_background": "light"
     },
     "output_type": "display_data"
    }
   ],
   "source": [
    "#Building Model\n",
    "from sklearn.linear_model import LinearRegression\n",
    "from sklearn.preprocessing import PolynomialFeatures\n",
    "poly_reg=PolynomialFeatures(degree=4)\n",
    "x_poly = poly_reg.fit_transform(x)\n",
    "poly_reg.fit(x_poly,y)\n",
    "line_reg_2=LinearRegression()\n",
    "line_reg_2.fit(x_poly,y)\n",
    "\n",
    "# Predicting the values\n",
    "y_pred_polyreg=line_reg_2.predict(poly_reg.fit_transform(Test))\n",
    "\n",
    "# Visualization\n",
    "import seaborn as sns\n",
    "ax1 = sns.distplot(y, hist=False, color=\"r\", label=\"Actual Value\")\n",
    "sns.distplot(y_pred_polyreg, hist=False, color=\"b\", label=\"Fitted Values\" , ax=ax1).set_title('Polynomial regression')"
   ]
  },
  {
   "cell_type": "markdown",
   "metadata": {},
   "source": [
    "Note: By seeing above plot we can conclude that polynomial reagression model's performance is very bad on our data."
   ]
  },
  {
   "cell_type": "markdown",
   "metadata": {},
   "source": [
    "## Decision Tree Regression"
   ]
  },
  {
   "cell_type": "code",
   "execution_count": 28,
   "metadata": {},
   "outputs": [
    {
     "name": "stdout",
     "output_type": "stream",
     "text": [
      "Accuracy for decision tree regressor is:  0.9958981845071475\n"
     ]
    },
    {
     "data": {
      "text/plain": [
       "Text(0.5, 1.0, 'Decisiion Tree Regression')"
      ]
     },
     "execution_count": 28,
     "metadata": {},
     "output_type": "execute_result"
    },
    {
     "data": {
      "image/png": "[encoded data removed]",
      "text/plain": [
       "<Figure size 432x288 with 1 Axes>"
      ]
     },
     "metadata": {
      "needs_background": "light"
     },
     "output_type": "display_data"
    }
   ],
   "source": [
    "# Building model\n",
    "from sklearn.tree import DecisionTreeRegressor\n",
    "reg_dt= DecisionTreeRegressor()\n",
    "reg_dt.fit(x,y)\n",
    "\n",
    "#Predicting the value\n",
    "y_pred_dt=reg_dt.predict(Test)\n",
    "\n",
    "#Obtaining the r-squared score\n",
    "print(\"Accuracy for decision tree regressor is: \",reg_dt.score(x,y))\n",
    "\n",
    "#Visualizing\n",
    "import seaborn as sns\n",
    "ax1 = sns.distplot(y, hist=False, color=\"r\", label=\"Actual Value\")\n",
    "sns.distplot(y_pred_dt, hist=False, color=\"b\", label=\"Fitted Values\" , ax=ax1).set_title('Decisiion Tree Regression')"
   ]
  },
  {
   "cell_type": "markdown",
   "metadata": {},
   "source": [
    "## Random forest regression"
   ]
  },
  {
   "cell_type": "code",
   "execution_count": 29,
   "metadata": {},
   "outputs": [
    {
     "name": "stdout",
     "output_type": "stream",
     "text": [
      "Accuracy for random forest regressor is:  0.9203393189375244\n"
     ]
    },
    {
     "data": {
      "text/plain": [
       "Text(0.5, 1.0, 'Random Forest regression')"
      ]
     },
     "execution_count": 29,
     "metadata": {},
     "output_type": "execute_result"
    },
    {
     "data": {
      "image/png": "[encoded data removed]",
      "text/plain": [
       "<Figure size 432x288 with 1 Axes>"
      ]
     },
     "metadata": {
      "needs_background": "light"
     },
     "output_type": "display_data"
    }
   ],
   "source": [
    "# Building the model\n",
    "from sklearn.ensemble import RandomForestRegressor\n",
    "reg_rf = RandomForestRegressor(max_depth=500, random_state=0)\n",
    "reg_rf.fit(x, y)\n",
    "\n",
    "# Predicting the value\n",
    "y_pred_rf=reg_rf.predict(Test)\n",
    "\n",
    "# Obtaining the r-squared score\n",
    "print(\"Accuracy for random forest regressor is: \",reg_rf.score(x,y))\n",
    "\n",
    "#Visualizing\n",
    "import seaborn as sns\n",
    "ax1 = sns.distplot(y, hist=False, color=\"r\", label=\"Actual Value\")\n",
    "sns.distplot(y_pred_rf, hist=False, color=\"b\", label=\"Fitted Values\" , ax=ax1).set_title('Random Forest regression')"
   ]
  },
  {
   "cell_type": "markdown",
   "metadata": {},
   "source": [
    "## XGBoost"
   ]
  },
  {
   "cell_type": "code",
   "execution_count": 31,
   "metadata": {},
   "outputs": [
    {
     "name": "stdout",
     "output_type": "stream",
     "text": [
      "Accuracy is:  0.20715956334512153\n",
      "Standard Deviation is:  0.03338052694727723\n"
     ]
    },
    {
     "data": {
      "text/plain": [
       "Text(0.5, 1.0, 'XGBoost regression')"
      ]
     },
     "execution_count": 31,
     "metadata": {},
     "output_type": "execute_result"
    },
    {
     "data": {
      "image/png": "[encoded data removed]",
      "text/plain": [
       "<Figure size 432x288 with 1 Axes>"
      ]
     },
     "metadata": {
      "needs_background": "light"
     },
     "output_type": "display_data"
    }
   ],
   "source": [
    "#Fitting XFBoost to the training set\n",
    "from xgboost import XGBRegressor\n",
    "import xgboost as xgb\n",
    "xgr = XGBRegressor(objective ='reg:squarederror')\n",
    "xgr.fit(x,y)\n",
    "# =============================================================================\n",
    "\n",
    "# =============================================================================\n",
    "# # Predicting the test set results\n",
    "y_pred_xg = xgr.predict(Test.values)\n",
    "# =============================================================================\n",
    "\n",
    "# =============================================================================\n",
    "# # Applying k-fold cross validation\n",
    "from sklearn.model_selection import cross_val_score\n",
    "accuracies = cross_val_score(estimator=xgr, X=x, y=y, cv=10)\n",
    "accuracy=accuracies.mean()\n",
    "print(\"Accuracy is: \",accuracy)\n",
    "std=accuracies.std()\n",
    "print(\"Standard Deviation is: \",std)\n",
    "# =============================================================================\n",
    "\n",
    "# =============================================================================\n",
    "#Visualizing\n",
    "import seaborn as sns\n",
    "ax1 = sns.distplot(y, hist=False, color=\"r\", label=\"Actual Value\")\n",
    "sns.distplot(y_pred_xg, hist=False, color=\"b\", label=\"Fitted Values\" , ax=ax1).set_title('XGBoost regression')\n",
    "\n"
   ]
  }
 ],
 "metadata": {
  "kernelspec": {
   "display_name": "Python 3",
   "language": "python",
   "name": "python3"
  },
  "language_info": {
   "codemirror_mode": {
    "name": "ipython",
    "version": 3
   },
   "file_extension": ".py",
   "mimetype": "text/x-python",
   "name": "python",
   "nbconvert_exporter": "python",
   "pygments_lexer": "ipython3",
   "version": "3.7.5"
  }
 },
 "nbformat": 4,
 "nbformat_minor": 2
}
